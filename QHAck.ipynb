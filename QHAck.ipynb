{
 "cells": [
  {
   "cell_type": "code",
   "execution_count": 1,
   "id": "8cf65da7",
   "metadata": {},
   "outputs": [],
   "source": [
    "from qiskit import * \n",
    "from qiskit.visualization import plot_histogram"
   ]
  },
  {
   "cell_type": "code",
   "execution_count": 2,
   "id": "79bdde0a",
   "metadata": {},
   "outputs": [],
   "source": [
    "\n",
    "qc = QuantumCircuit(8,2)\n",
    "%matplotlib inline\n",
    "#uncomment to check for all data input combinations\n",
    "#qc.h(0)\n",
    "#qc.h(1)"
   ]
  },
  {
   "cell_type": "code",
   "execution_count": 3,
   "id": "3cf03ca7",
   "metadata": {},
   "outputs": [
    {
     "data": {
      "text/html": [
       "<pre style=\"word-wrap: normal;white-space: pre;background: #fff0;line-height: 1.1;font-family: &quot;Courier New&quot;,Courier,monospace\">     ┌───┐                     ░ \n",
       "q_0: ┤ H ├─────────────────────░─\n",
       "     └───┘     ┌───┐┌───┐┌───┐ ░ \n",
       "q_1: ──■───────┤ X ├┤ Z ├┤ X ├─░─\n",
       "     ┌─┴─┐┌───┐└─┬─┘└───┘└─┬─┘ ░ \n",
       "q_2: ┤ X ├┤ X ├──■─────────■───░─\n",
       "     └───┘└───┘                ░ \n",
       "q_3: ──────────────────────────░─\n",
       "                               ░ \n",
       "q_4: ──────────────────────────░─\n",
       "                               ░ \n",
       "q_5: ──────────────────────────░─\n",
       "                               ░ \n",
       "q_6: ──────────────────────────░─\n",
       "                               ░ \n",
       "q_7: ──────────────────────────░─\n",
       "                               ░ \n",
       "c: 2/════════════════════════════\n",
       "                                 </pre>"
      ],
      "text/plain": [
       "     ┌───┐                     ░ \n",
       "q_0: ┤ H ├─────────────────────░─\n",
       "     └───┘     ┌───┐┌───┐┌───┐ ░ \n",
       "q_1: ──■───────┤ X ├┤ Z ├┤ X ├─░─\n",
       "     ┌─┴─┐┌───┐└─┬─┘└───┘└─┬─┘ ░ \n",
       "q_2: ┤ X ├┤ X ├──■─────────■───░─\n",
       "     └───┘└───┘                ░ \n",
       "q_3: ──────────────────────────░─\n",
       "                               ░ \n",
       "q_4: ──────────────────────────░─\n",
       "                               ░ \n",
       "q_5: ──────────────────────────░─\n",
       "                               ░ \n",
       "q_6: ──────────────────────────░─\n",
       "                               ░ \n",
       "q_7: ──────────────────────────░─\n",
       "                               ░ \n",
       "c: 2/════════════════════════════\n",
       "                                 "
      ]
     },
     "execution_count": 3,
     "metadata": {},
     "output_type": "execute_result"
    }
   ],
   "source": [
    "qc.h(0)\n",
    "qc.cx(1,2)\n",
    "qc.x(2)\n",
    "qc.cx(2,1)\n",
    "qc.z(1)\n",
    "qc.cx(2,1)\n",
    "qc.barrier()\n",
    "qc.draw()"
   ]
  },
  {
   "cell_type": "code",
   "execution_count": 4,
   "id": "b997e27e",
   "metadata": {},
   "outputs": [
    {
     "data": {
      "text/html": [
       "<pre style=\"word-wrap: normal;white-space: pre;background: #fff0;line-height: 1.1;font-family: &quot;Courier New&quot;,Courier,monospace\">     ┌───┐                     ░                \n",
       "q_0: ┤ H ├─────────────────────░────────────────\n",
       "     └───┘     ┌───┐┌───┐┌───┐ ░                \n",
       "q_1: ──■───────┤ X ├┤ Z ├┤ X ├─░────────────────\n",
       "     ┌─┴─┐┌───┐└─┬─┘└───┘└─┬─┘ ░                \n",
       "q_2: ┤ X ├┤ X ├──■─────────■───░────────────────\n",
       "     └───┘└───┘                ░ ┌───┐          \n",
       "q_3: ──────────────────────────░─┤ H ├──■───────\n",
       "                               ░ ├───┤  │       \n",
       "q_4: ──────────────────────────░─┤ H ├──┼────■──\n",
       "                               ░ └───┘┌─┴─┐  │  \n",
       "q_5: ──────────────────────────░──────┤ X ├──┼──\n",
       "                               ░      └───┘┌─┴─┐\n",
       "q_6: ──────────────────────────░───────────┤ X ├\n",
       "                               ░           └───┘\n",
       "q_7: ──────────────────────────░────────────────\n",
       "                               ░                \n",
       "c: 2/═══════════════════════════════════════════\n",
       "                                                </pre>"
      ],
      "text/plain": [
       "     ┌───┐                     ░                \n",
       "q_0: ┤ H ├─────────────────────░────────────────\n",
       "     └───┘     ┌───┐┌───┐┌───┐ ░                \n",
       "q_1: ──■───────┤ X ├┤ Z ├┤ X ├─░────────────────\n",
       "     ┌─┴─┐┌───┐└─┬─┘└───┘└─┬─┘ ░                \n",
       "q_2: ┤ X ├┤ X ├──■─────────■───░────────────────\n",
       "     └───┘└───┘                ░ ┌───┐          \n",
       "q_3: ──────────────────────────░─┤ H ├──■───────\n",
       "                               ░ ├───┤  │       \n",
       "q_4: ──────────────────────────░─┤ H ├──┼────■──\n",
       "                               ░ └───┘┌─┴─┐  │  \n",
       "q_5: ──────────────────────────░──────┤ X ├──┼──\n",
       "                               ░      └───┘┌─┴─┐\n",
       "q_6: ──────────────────────────░───────────┤ X ├\n",
       "                               ░           └───┘\n",
       "q_7: ──────────────────────────░────────────────\n",
       "                               ░                \n",
       "c: 2/═══════════════════════════════════════════\n",
       "                                                "
      ]
     },
     "execution_count": 4,
     "metadata": {},
     "output_type": "execute_result"
    }
   ],
   "source": [
    "qc.h(3)\n",
    "qc.cx(3,5)\n",
    "qc.h(4)\n",
    "qc.cx(4,6)\n",
    "qc.draw()"
   ]
  },
  {
   "cell_type": "code",
   "execution_count": 5,
   "id": "b68e260e",
   "metadata": {},
   "outputs": [
    {
     "data": {
      "text/html": [
       "<pre style=\"word-wrap: normal;white-space: pre;background: #fff0;line-height: 1.1;font-family: &quot;Courier New&quot;,Courier,monospace\">     ┌───┐                     ░                ┌───┐     \n",
       "q_0: ┤ H ├─────────────────────░─────────────■──┤ H ├─────\n",
       "     └───┘     ┌───┐┌───┐┌───┐ ░             │  └───┘┌───┐\n",
       "q_1: ──■───────┤ X ├┤ Z ├┤ X ├─░─────────────┼────■──┤ H ├\n",
       "     ┌─┴─┐┌───┐└─┬─┘└───┘└─┬─┘ ░             │    │  └───┘\n",
       "q_2: ┤ X ├┤ X ├──■─────────■───░─────────────┼────┼───────\n",
       "     └───┘└───┘                ░ ┌───┐     ┌─┴─┐  │       \n",
       "q_3: ──────────────────────────░─┤ H ├──■──┤ X ├──┼───────\n",
       "                               ░ ├───┤  │  └───┘┌─┴─┐     \n",
       "q_4: ──────────────────────────░─┤ H ├──┼────■──┤ X ├─────\n",
       "                               ░ └───┘┌─┴─┐  │  └───┘     \n",
       "q_5: ──────────────────────────░──────┤ X ├──┼────────────\n",
       "                               ░      └───┘┌─┴─┐          \n",
       "q_6: ──────────────────────────░───────────┤ X ├──────────\n",
       "                               ░           └───┘          \n",
       "q_7: ──────────────────────────░──────────────────────────\n",
       "                               ░                          \n",
       "c: 2/═════════════════════════════════════════════════════\n",
       "                                                          </pre>"
      ],
      "text/plain": [
       "     ┌───┐                     ░                ┌───┐     \n",
       "q_0: ┤ H ├─────────────────────░─────────────■──┤ H ├─────\n",
       "     └───┘     ┌───┐┌───┐┌───┐ ░             │  └───┘┌───┐\n",
       "q_1: ──■───────┤ X ├┤ Z ├┤ X ├─░─────────────┼────■──┤ H ├\n",
       "     ┌─┴─┐┌───┐└─┬─┘└───┘└─┬─┘ ░             │    │  └───┘\n",
       "q_2: ┤ X ├┤ X ├──■─────────■───░─────────────┼────┼───────\n",
       "     └───┘└───┘                ░ ┌───┐     ┌─┴─┐  │       \n",
       "q_3: ──────────────────────────░─┤ H ├──■──┤ X ├──┼───────\n",
       "                               ░ ├───┤  │  └───┘┌─┴─┐     \n",
       "q_4: ──────────────────────────░─┤ H ├──┼────■──┤ X ├─────\n",
       "                               ░ └───┘┌─┴─┐  │  └───┘     \n",
       "q_5: ──────────────────────────░──────┤ X ├──┼────────────\n",
       "                               ░      └───┘┌─┴─┐          \n",
       "q_6: ──────────────────────────░───────────┤ X ├──────────\n",
       "                               ░           └───┘          \n",
       "q_7: ──────────────────────────░──────────────────────────\n",
       "                               ░                          \n",
       "c: 2/═════════════════════════════════════════════════════\n",
       "                                                          "
      ]
     },
     "execution_count": 5,
     "metadata": {},
     "output_type": "execute_result"
    }
   ],
   "source": [
    "qc.cx(0,3)\n",
    "qc.h(0)\n",
    "qc.cx(1,4)\n",
    "qc.h(1)\n",
    "qc.draw()"
   ]
  },
  {
   "cell_type": "code",
   "execution_count": null,
   "id": "bfe7772f",
   "metadata": {},
   "outputs": [],
   "source": []
  },
  {
   "cell_type": "code",
   "execution_count": 6,
   "id": "f1d0c164",
   "metadata": {},
   "outputs": [
    {
     "data": {
      "text/html": [
       "<pre style=\"word-wrap: normal;white-space: pre;background: #fff0;line-height: 1.1;font-family: &quot;Courier New&quot;,Courier,monospace\">     ┌───┐                     ░                ┌───┐                 ░ \n",
       "q_0: ┤ H ├─────────────────────░─────────────■──┤ H ├───────────■─────░─\n",
       "     └───┘     ┌───┐┌───┐┌───┐ ░             │  └───┘┌───┐      │     ░ \n",
       "q_1: ──■───────┤ X ├┤ Z ├┤ X ├─░─────────────┼────■──┤ H ├──────┼──■──░─\n",
       "     ┌─┴─┐┌───┐└─┬─┘└───┘└─┬─┘ ░             │    │  └───┘      │  │  ░ \n",
       "q_2: ┤ X ├┤ X ├──■─────────■───░─────────────┼────┼─────────────┼──┼──░─\n",
       "     └───┘└───┘                ░ ┌───┐     ┌─┴─┐  │             │  │  ░ \n",
       "q_3: ──────────────────────────░─┤ H ├──■──┤ X ├──┼────■────────┼──┼──░─\n",
       "                               ░ ├───┤  │  └───┘┌─┴─┐  │        │  │  ░ \n",
       "q_4: ──────────────────────────░─┤ H ├──┼────■──┤ X ├──┼────■───┼──┼──░─\n",
       "                               ░ └───┘┌─┴─┐  │  └───┘┌─┴─┐  │   │  │  ░ \n",
       "q_5: ──────────────────────────░──────┤ X ├──┼───────┤ X ├──┼───■──┼──░─\n",
       "                               ░      └───┘┌─┴─┐     └───┘┌─┴─┐    │  ░ \n",
       "q_6: ──────────────────────────░───────────┤ X ├──────────┤ X ├────■──░─\n",
       "                               ░           └───┘          └───┘       ░ \n",
       "q_7: ──────────────────────────░──────────────────────────────────────░─\n",
       "                               ░                                      ░ \n",
       "c: 2/═══════════════════════════════════════════════════════════════════\n",
       "                                                                        </pre>"
      ],
      "text/plain": [
       "     ┌───┐                     ░                ┌───┐                 ░ \n",
       "q_0: ┤ H ├─────────────────────░─────────────■──┤ H ├───────────■─────░─\n",
       "     └───┘     ┌───┐┌───┐┌───┐ ░             │  └───┘┌───┐      │     ░ \n",
       "q_1: ──■───────┤ X ├┤ Z ├┤ X ├─░─────────────┼────■──┤ H ├──────┼──■──░─\n",
       "     ┌─┴─┐┌───┐└─┬─┘└───┘└─┬─┘ ░             │    │  └───┘      │  │  ░ \n",
       "q_2: ┤ X ├┤ X ├──■─────────■───░─────────────┼────┼─────────────┼──┼──░─\n",
       "     └───┘└───┘                ░ ┌───┐     ┌─┴─┐  │             │  │  ░ \n",
       "q_3: ──────────────────────────░─┤ H ├──■──┤ X ├──┼────■────────┼──┼──░─\n",
       "                               ░ ├───┤  │  └───┘┌─┴─┐  │        │  │  ░ \n",
       "q_4: ──────────────────────────░─┤ H ├──┼────■──┤ X ├──┼────■───┼──┼──░─\n",
       "                               ░ └───┘┌─┴─┐  │  └───┘┌─┴─┐  │   │  │  ░ \n",
       "q_5: ──────────────────────────░──────┤ X ├──┼───────┤ X ├──┼───■──┼──░─\n",
       "                               ░      └───┘┌─┴─┐     └───┘┌─┴─┐    │  ░ \n",
       "q_6: ──────────────────────────░───────────┤ X ├──────────┤ X ├────■──░─\n",
       "                               ░           └───┘          └───┘       ░ \n",
       "q_7: ──────────────────────────░──────────────────────────────────────░─\n",
       "                               ░                                      ░ \n",
       "c: 2/═══════════════════════════════════════════════════════════════════\n",
       "                                                                        "
      ]
     },
     "execution_count": 6,
     "metadata": {},
     "output_type": "execute_result"
    }
   ],
   "source": [
    "qc.cx(3,5)\n",
    "qc.cz(0,5)\n",
    "qc.cx(4,6)\n",
    "qc.cz(1,6)\n",
    "qc.barrier()\n",
    "qc.draw()"
   ]
  },
  {
   "cell_type": "code",
   "execution_count": 7,
   "id": "ea0e05b3",
   "metadata": {},
   "outputs": [
    {
     "data": {
      "text/plain": [
       "<qiskit.circuit.instructionset.InstructionSet at 0x2a5fac0f3c0>"
      ]
     },
     "execution_count": 7,
     "metadata": {},
     "output_type": "execute_result"
    }
   ],
   "source": [
    "qc.h(5)"
   ]
  },
  {
   "cell_type": "code",
   "execution_count": 8,
   "id": "c99c5342",
   "metadata": {},
   "outputs": [
    {
     "data": {
      "image/png": "[encoded data removed]",
      "text/plain": [
       "<Figure size 504x360 with 1 Axes>"
      ]
     },
     "execution_count": 8,
     "metadata": {},
     "output_type": "execute_result"
    }
   ],
   "source": [
    "qc.measure([5,6],[0,1])\n",
    "backend=Aer.get_backend('aer_simulator')\n",
    "result=backend.run(qc,shots=1000).result()\n",
    "counts=result.get_counts()\n",
    "plot_histogram(counts)"
   ]
  },
  {
   "cell_type": "code",
   "execution_count": null,
   "id": "abd263a2",
   "metadata": {},
   "outputs": [],
   "source": []
  }
 ],
 "metadata": {
  "kernelspec": {
   "display_name": "Python 3 (ipykernel)",
   "language": "python",
   "name": "python3"
  },
  "language_info": {
   "codemirror_mode": {
    "name": "ipython",
    "version": 3
   },
   "file_extension": ".py",
   "mimetype": "text/x-python",
   "name": "python",
   "nbconvert_exporter": "python",
   "pygments_lexer": "ipython3",
   "version": "3.9.7"
  }
 },
 "nbformat": 4,
 "nbformat_minor": 5
}
