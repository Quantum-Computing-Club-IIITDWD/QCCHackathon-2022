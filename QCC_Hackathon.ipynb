{
  "nbformat": 4,
  "nbformat_minor": 0,
  "metadata": {
    "colab": {
      "name": "QCC Hackathon.ipynb",
      "provenance": [],
      "collapsed_sections": []
    },
    "kernelspec": {
      "name": "python3",
      "display_name": "Python 3"
    },
    "language_info": {
      "name": "python"
    }
  },
  "cells": [
    {
      "cell_type": "code",
      "execution_count": 1,
      "metadata": {
        "colab": {
          "base_uri": "https://localhost:8080/"
        },
        "id": "nkmBeW7bzQGc",
        "outputId": "ce5d46b6-041a-416f-823a-b10b4c18a05b"
      },
      "outputs": [
        {
          "output_type": "stream",
          "name": "stdout",
          "text": [
            "Looking in indexes: https://pypi.org/simple, https://us-python.pkg.dev/colab-wheels/public/simple/\n",
            "Collecting qiskit\n",
            "  Downloading qiskit-0.36.2.tar.gz (13 kB)\n",
            "Collecting qiskit-terra==0.20.2\n",
            "  Downloading qiskit_terra-0.20.2-cp37-cp37m-manylinux_2_17_x86_64.manylinux2014_x86_64.whl (6.5 MB)\n",
            "\u001b[K     |████████████████████████████████| 6.5 MB 7.3 MB/s \n",
            "\u001b[?25hCollecting qiskit-aer==0.10.4\n",
            "  Downloading qiskit_aer-0.10.4-cp37-cp37m-manylinux_2_12_x86_64.manylinux2010_x86_64.whl (18.0 MB)\n",
            "\u001b[K     |████████████████████████████████| 18.0 MB 245 kB/s \n",
            "\u001b[?25hCollecting qiskit-ibmq-provider==0.19.1\n",
            "  Downloading qiskit_ibmq_provider-0.19.1-py3-none-any.whl (240 kB)\n",
            "\u001b[K     |████████████████████████████████| 240 kB 52.0 MB/s \n",
            "\u001b[?25hCollecting qiskit-ignis==0.7.1\n",
            "  Downloading qiskit_ignis-0.7.1-py3-none-any.whl (198 kB)\n",
            "\u001b[K     |████████████████████████████████| 198 kB 11.3 MB/s \n",
            "\u001b[?25hRequirement already satisfied: numpy>=1.16.3 in /usr/local/lib/python3.7/dist-packages (from qiskit-aer==0.10.4->qiskit) (1.21.6)\n",
            "Requirement already satisfied: scipy>=1.0 in /usr/local/lib/python3.7/dist-packages (from qiskit-aer==0.10.4->qiskit) (1.4.1)\n",
            "Collecting websocket-client>=1.0.1\n",
            "  Downloading websocket_client-1.3.2-py3-none-any.whl (54 kB)\n",
            "\u001b[K     |████████████████████████████████| 54 kB 2.7 MB/s \n",
            "\u001b[?25hRequirement already satisfied: python-dateutil>=2.8.0 in /usr/local/lib/python3.7/dist-packages (from qiskit-ibmq-provider==0.19.1->qiskit) (2.8.2)\n",
            "Collecting websockets>=10.0\n",
            "  Downloading websockets-10.3-cp37-cp37m-manylinux_2_5_x86_64.manylinux1_x86_64.manylinux_2_12_x86_64.manylinux2010_x86_64.whl (112 kB)\n",
            "\u001b[K     |████████████████████████████████| 112 kB 39.5 MB/s \n",
            "\u001b[?25hCollecting requests-ntlm>=1.1.0\n",
            "  Downloading requests_ntlm-1.1.0-py2.py3-none-any.whl (5.7 kB)\n",
            "Requirement already satisfied: requests>=2.19 in /usr/local/lib/python3.7/dist-packages (from qiskit-ibmq-provider==0.19.1->qiskit) (2.23.0)\n",
            "Requirement already satisfied: urllib3>=1.21.1 in /usr/local/lib/python3.7/dist-packages (from qiskit-ibmq-provider==0.19.1->qiskit) (1.24.3)\n",
            "Requirement already satisfied: setuptools>=40.1.0 in /usr/local/lib/python3.7/dist-packages (from qiskit-ignis==0.7.1->qiskit) (57.4.0)\n",
            "Collecting retworkx>=0.8.0\n",
            "  Downloading retworkx-0.11.0-cp37-cp37m-manylinux_2_5_x86_64.manylinux1_x86_64.manylinux_2_12_x86_64.manylinux2010_x86_64.whl (1.6 MB)\n",
            "\u001b[K     |████████████████████████████████| 1.6 MB 41.8 MB/s \n",
            "\u001b[?25hCollecting tweedledum<2.0,>=1.1\n",
            "  Downloading tweedledum-1.1.1-cp37-cp37m-manylinux_2_12_x86_64.manylinux2010_x86_64.whl (943 kB)\n",
            "\u001b[K     |████████████████████████████████| 943 kB 57.3 MB/s \n",
            "\u001b[?25hCollecting scipy>=1.0\n",
            "  Downloading scipy-1.7.3-cp37-cp37m-manylinux_2_12_x86_64.manylinux2010_x86_64.whl (38.1 MB)\n",
            "\u001b[K     |████████████████████████████████| 38.1 MB 1.3 MB/s \n",
            "\u001b[?25hRequirement already satisfied: sympy>=1.3 in /usr/local/lib/python3.7/dist-packages (from qiskit-terra==0.20.2->qiskit) (1.7.1)\n",
            "Collecting ply>=3.10\n",
            "  Downloading ply-3.11-py2.py3-none-any.whl (49 kB)\n",
            "\u001b[K     |████████████████████████████████| 49 kB 6.8 MB/s \n",
            "\u001b[?25hCollecting python-constraint>=1.4\n",
            "  Downloading python-constraint-1.4.0.tar.bz2 (18 kB)\n",
            "Requirement already satisfied: dill>=0.3 in /usr/local/lib/python3.7/dist-packages (from qiskit-terra==0.20.2->qiskit) (0.3.5.1)\n",
            "Collecting stevedore>=3.0.0\n",
            "  Downloading stevedore-3.5.0-py3-none-any.whl (49 kB)\n",
            "\u001b[K     |████████████████████████████████| 49 kB 6.9 MB/s \n",
            "\u001b[?25hCollecting symengine>=0.9\n",
            "  Downloading symengine-0.9.2-cp37-cp37m-manylinux2010_x86_64.whl (37.5 MB)\n",
            "\u001b[K     |████████████████████████████████| 37.5 MB 1.2 MB/s \n",
            "\u001b[?25hRequirement already satisfied: psutil>=5 in /usr/local/lib/python3.7/dist-packages (from qiskit-terra==0.20.2->qiskit) (5.4.8)\n",
            "Requirement already satisfied: six>=1.5 in /usr/local/lib/python3.7/dist-packages (from python-dateutil>=2.8.0->qiskit-ibmq-provider==0.19.1->qiskit) (1.15.0)\n",
            "Requirement already satisfied: certifi>=2017.4.17 in /usr/local/lib/python3.7/dist-packages (from requests>=2.19->qiskit-ibmq-provider==0.19.1->qiskit) (2022.5.18.1)\n",
            "Requirement already satisfied: idna<3,>=2.5 in /usr/local/lib/python3.7/dist-packages (from requests>=2.19->qiskit-ibmq-provider==0.19.1->qiskit) (2.10)\n",
            "Requirement already satisfied: chardet<4,>=3.0.2 in /usr/local/lib/python3.7/dist-packages (from requests>=2.19->qiskit-ibmq-provider==0.19.1->qiskit) (3.0.4)\n",
            "Collecting cryptography>=1.3\n",
            "  Downloading cryptography-37.0.2-cp36-abi3-manylinux_2_24_x86_64.whl (4.0 MB)\n",
            "\u001b[K     |████████████████████████████████| 4.0 MB 49.1 MB/s \n",
            "\u001b[?25hCollecting ntlm-auth>=1.0.2\n",
            "  Downloading ntlm_auth-1.5.0-py2.py3-none-any.whl (29 kB)\n",
            "Requirement already satisfied: cffi>=1.12 in /usr/local/lib/python3.7/dist-packages (from cryptography>=1.3->requests-ntlm>=1.1.0->qiskit-ibmq-provider==0.19.1->qiskit) (1.15.0)\n",
            "Requirement already satisfied: pycparser in /usr/local/lib/python3.7/dist-packages (from cffi>=1.12->cryptography>=1.3->requests-ntlm>=1.1.0->qiskit-ibmq-provider==0.19.1->qiskit) (2.21)\n",
            "Requirement already satisfied: importlib-metadata>=1.7.0 in /usr/local/lib/python3.7/dist-packages (from stevedore>=3.0.0->qiskit-terra==0.20.2->qiskit) (4.11.4)\n",
            "Collecting pbr!=2.1.0,>=2.0.0\n",
            "  Downloading pbr-5.9.0-py2.py3-none-any.whl (112 kB)\n",
            "\u001b[K     |████████████████████████████████| 112 kB 47.8 MB/s \n",
            "\u001b[?25hRequirement already satisfied: typing-extensions>=3.6.4 in /usr/local/lib/python3.7/dist-packages (from importlib-metadata>=1.7.0->stevedore>=3.0.0->qiskit-terra==0.20.2->qiskit) (4.2.0)\n",
            "Requirement already satisfied: zipp>=0.5 in /usr/local/lib/python3.7/dist-packages (from importlib-metadata>=1.7.0->stevedore>=3.0.0->qiskit-terra==0.20.2->qiskit) (3.8.0)\n",
            "Requirement already satisfied: mpmath>=0.19 in /usr/local/lib/python3.7/dist-packages (from sympy>=1.3->qiskit-terra==0.20.2->qiskit) (1.2.1)\n",
            "Building wheels for collected packages: qiskit, python-constraint\n",
            "  Building wheel for qiskit (setup.py) ... \u001b[?25l\u001b[?25hdone\n",
            "  Created wheel for qiskit: filename=qiskit-0.36.2-py3-none-any.whl size=11933 sha256=72b0353bc01b99e85eee8f86877dc711a6eaade18d80a0f312d97d3c4f6118d0\n",
            "  Stored in directory: /root/.cache/pip/wheels/36/f7/83/e2755ad17aa35bc145fce34e184aaf394a265a978d95caaabf\n",
            "  Building wheel for python-constraint (setup.py) ... \u001b[?25l\u001b[?25hdone\n",
            "  Created wheel for python-constraint: filename=python_constraint-1.4.0-py2.py3-none-any.whl size=24081 sha256=7eac76503382a3d39da0aed8c5bb838d0b47b7cb50e2afc2922eb2e2accdbbea\n",
            "  Stored in directory: /root/.cache/pip/wheels/07/27/db/1222c80eb1e431f3d2199c12569cb1cac60f562a451fe30479\n",
            "Successfully built qiskit python-constraint\n",
            "Installing collected packages: pbr, tweedledum, symengine, stevedore, scipy, retworkx, python-constraint, ply, ntlm-auth, cryptography, websockets, websocket-client, requests-ntlm, qiskit-terra, qiskit-ignis, qiskit-ibmq-provider, qiskit-aer, qiskit\n",
            "  Attempting uninstall: scipy\n",
            "    Found existing installation: scipy 1.4.1\n",
            "    Uninstalling scipy-1.4.1:\n",
            "      Successfully uninstalled scipy-1.4.1\n",
            "\u001b[31mERROR: pip's dependency resolver does not currently take into account all the packages that are installed. This behaviour is the source of the following dependency conflicts.\n",
            "albumentations 0.1.12 requires imgaug<0.2.7,>=0.2.5, but you have imgaug 0.2.9 which is incompatible.\u001b[0m\n",
            "Successfully installed cryptography-37.0.2 ntlm-auth-1.5.0 pbr-5.9.0 ply-3.11 python-constraint-1.4.0 qiskit-0.36.2 qiskit-aer-0.10.4 qiskit-ibmq-provider-0.19.1 qiskit-ignis-0.7.1 qiskit-terra-0.20.2 requests-ntlm-1.1.0 retworkx-0.11.0 scipy-1.7.3 stevedore-3.5.0 symengine-0.9.2 tweedledum-1.1.1 websocket-client-1.3.2 websockets-10.3\n"
          ]
        }
      ],
      "source": [
        "!pip install qiskit"
      ]
    },
    {
      "cell_type": "code",
      "source": [
        "from qiskit import *\n",
        "from qiskit.tools.visualization import plot_histogram"
      ],
      "metadata": {
        "id": "p9N7ruNvzThz"
      },
      "execution_count": 2,
      "outputs": []
    },
    {
      "cell_type": "code",
      "source": [
        "qc=QuantumCircuit(3,3) #q0=qubit1 and q1=qubit2 of the table\n",
        "qc.h(0)\n",
        "qc.y(0)\n",
        "qc.x(1)\n",
        "qc.z(1)\n",
        "qc.y(1)\n",
        "qc.cz(0,1)\n",
        "qc.barrier()\n",
        "qc.draw()"
      ],
      "metadata": {
        "colab": {
          "base_uri": "https://localhost:8080/",
          "height": 155
        },
        "id": "gmt4HVDPzoO0",
        "outputId": "3b7b9fd1-7ee2-4faf-e800-f233d2cea86c"
      },
      "execution_count": 3,
      "outputs": [
        {
          "output_type": "execute_result",
          "data": {
            "text/plain": [
              "     ┌───┐┌───┐         ░ \n",
              "q_0: ┤ H ├┤ Y ├──────■──░─\n",
              "     ├───┤├───┤┌───┐ │  ░ \n",
              "q_1: ┤ X ├┤ Z ├┤ Y ├─■──░─\n",
              "     └───┘└───┘└───┘    ░ \n",
              "q_2: ───────────────────░─\n",
              "                        ░ \n",
              "c: 3/═════════════════════\n",
              "                          "
            ],
            "text/html": [
              "<pre style=\"word-wrap: normal;white-space: pre;background: #fff0;line-height: 1.1;font-family: &quot;Courier New&quot;,Courier,monospace\">     ┌───┐┌───┐         ░ \n",
              "q_0: ┤ H ├┤ Y ├──────■──░─\n",
              "     ├───┤├───┤┌───┐ │  ░ \n",
              "q_1: ┤ X ├┤ Z ├┤ Y ├─■──░─\n",
              "     └───┘└───┘└───┘    ░ \n",
              "q_2: ───────────────────░─\n",
              "                        ░ \n",
              "c: 3/═════════════════════\n",
              "                          </pre>"
            ]
          },
          "metadata": {},
          "execution_count": 3
        }
      ]
    },
    {
      "cell_type": "code",
      "source": [
        "qc.h(1)\n",
        "qc.cx(1,2)\n",
        "qc.barrier()\n",
        "qc.draw()"
      ],
      "metadata": {
        "colab": {
          "base_uri": "https://localhost:8080/",
          "height": 155
        },
        "id": "GAMN2Tm20JXG",
        "outputId": "71cff27c-0737-4308-e7c9-8acec28ddd1f"
      },
      "execution_count": 4,
      "outputs": [
        {
          "output_type": "execute_result",
          "data": {
            "text/plain": [
              "     ┌───┐┌───┐         ░            ░ \n",
              "q_0: ┤ H ├┤ Y ├──────■──░────────────░─\n",
              "     ├───┤├───┤┌───┐ │  ░ ┌───┐      ░ \n",
              "q_1: ┤ X ├┤ Z ├┤ Y ├─■──░─┤ H ├──■───░─\n",
              "     └───┘└───┘└───┘    ░ └───┘┌─┴─┐ ░ \n",
              "q_2: ───────────────────░──────┤ X ├─░─\n",
              "                        ░      └───┘ ░ \n",
              "c: 3/══════════════════════════════════\n",
              "                                       "
            ],
            "text/html": [
              "<pre style=\"word-wrap: normal;white-space: pre;background: #fff0;line-height: 1.1;font-family: &quot;Courier New&quot;,Courier,monospace\">     ┌───┐┌───┐         ░            ░ \n",
              "q_0: ┤ H ├┤ Y ├──────■──░────────────░─\n",
              "     ├───┤├───┤┌───┐ │  ░ ┌───┐      ░ \n",
              "q_1: ┤ X ├┤ Z ├┤ Y ├─■──░─┤ H ├──■───░─\n",
              "     └───┘└───┘└───┘    ░ └───┘┌─┴─┐ ░ \n",
              "q_2: ───────────────────░──────┤ X ├─░─\n",
              "                        ░      └───┘ ░ \n",
              "c: 3/══════════════════════════════════\n",
              "                                       </pre>"
            ]
          },
          "metadata": {},
          "execution_count": 4
        }
      ]
    },
    {
      "cell_type": "code",
      "source": [
        "qc.cx(0,1)\n",
        "qc.h(0)\n",
        "qc.measure([0,1],[0,1])\n",
        "qc.barrier()\n",
        "qc.draw()"
      ],
      "metadata": {
        "colab": {
          "base_uri": "https://localhost:8080/",
          "height": 155
        },
        "id": "S9HRpSfA0U-L",
        "outputId": "fee9773c-4d44-42eb-d79e-82b7e6fac37d"
      },
      "execution_count": 5,
      "outputs": [
        {
          "output_type": "execute_result",
          "data": {
            "text/plain": [
              "     ┌───┐┌───┐         ░            ░      ┌───┐┌─┐ ░ \n",
              "q_0: ┤ H ├┤ Y ├──────■──░────────────░───■──┤ H ├┤M├─░─\n",
              "     ├───┤├───┤┌───┐ │  ░ ┌───┐      ░ ┌─┴─┐└┬─┬┘└╥┘ ░ \n",
              "q_1: ┤ X ├┤ Z ├┤ Y ├─■──░─┤ H ├──■───░─┤ X ├─┤M├──╫──░─\n",
              "     └───┘└───┘└───┘    ░ └───┘┌─┴─┐ ░ └───┘ └╥┘  ║  ░ \n",
              "q_2: ───────────────────░──────┤ X ├─░────────╫───╫──░─\n",
              "                        ░      └───┘ ░        ║   ║  ░ \n",
              "c: 3/═════════════════════════════════════════╩═══╩════\n",
              "                                              1   0    "
            ],
            "text/html": [
              "<pre style=\"word-wrap: normal;white-space: pre;background: #fff0;line-height: 1.1;font-family: &quot;Courier New&quot;,Courier,monospace\">     ┌───┐┌───┐         ░            ░      ┌───┐┌─┐ ░ \n",
              "q_0: ┤ H ├┤ Y ├──────■──░────────────░───■──┤ H ├┤M├─░─\n",
              "     ├───┤├───┤┌───┐ │  ░ ┌───┐      ░ ┌─┴─┐└┬─┬┘└╥┘ ░ \n",
              "q_1: ┤ X ├┤ Z ├┤ Y ├─■──░─┤ H ├──■───░─┤ X ├─┤M├──╫──░─\n",
              "     └───┘└───┘└───┘    ░ └───┘┌─┴─┐ ░ └───┘ └╥┘  ║  ░ \n",
              "q_2: ───────────────────░──────┤ X ├─░────────╫───╫──░─\n",
              "                        ░      └───┘ ░        ║   ║  ░ \n",
              "c: 3/═════════════════════════════════════════╩═══╩════\n",
              "                                              1   0    </pre>"
            ]
          },
          "metadata": {},
          "execution_count": 5
        }
      ]
    },
    {
      "cell_type": "code",
      "source": [
        "qc.cx(1,2)\n",
        "qc.cz(0,2)\n",
        "qc.barrier()\n",
        "qc.measure(2,2)\n",
        "qc.draw()"
      ],
      "metadata": {
        "colab": {
          "base_uri": "https://localhost:8080/",
          "height": 155
        },
        "id": "0ZF7ORRO0muo",
        "outputId": "404bd686-9d3e-4e89-b07f-cd0bec35882f"
      },
      "execution_count": 6,
      "outputs": [
        {
          "output_type": "execute_result",
          "data": {
            "text/plain": [
              "     ┌───┐┌───┐         ░            ░      ┌───┐┌─┐ ░          ░    \n",
              "q_0: ┤ H ├┤ Y ├──────■──░────────────░───■──┤ H ├┤M├─░───────■──░────\n",
              "     ├───┤├───┤┌───┐ │  ░ ┌───┐      ░ ┌─┴─┐└┬─┬┘└╥┘ ░       │  ░    \n",
              "q_1: ┤ X ├┤ Z ├┤ Y ├─■──░─┤ H ├──■───░─┤ X ├─┤M├──╫──░───■───┼──░────\n",
              "     └───┘└───┘└───┘    ░ └───┘┌─┴─┐ ░ └───┘ └╥┘  ║  ░ ┌─┴─┐ │  ░ ┌─┐\n",
              "q_2: ───────────────────░──────┤ X ├─░────────╫───╫──░─┤ X ├─■──░─┤M├\n",
              "                        ░      └───┘ ░        ║   ║  ░ └───┘    ░ └╥┘\n",
              "c: 3/═════════════════════════════════════════╩═══╩════════════════╩═\n",
              "                                              1   0                2 "
            ],
            "text/html": [
              "<pre style=\"word-wrap: normal;white-space: pre;background: #fff0;line-height: 1.1;font-family: &quot;Courier New&quot;,Courier,monospace\">     ┌───┐┌───┐         ░            ░      ┌───┐┌─┐ ░          ░    \n",
              "q_0: ┤ H ├┤ Y ├──────■──░────────────░───■──┤ H ├┤M├─░───────■──░────\n",
              "     ├───┤├───┤┌───┐ │  ░ ┌───┐      ░ ┌─┴─┐└┬─┬┘└╥┘ ░       │  ░    \n",
              "q_1: ┤ X ├┤ Z ├┤ Y ├─■──░─┤ H ├──■───░─┤ X ├─┤M├──╫──░───■───┼──░────\n",
              "     └───┘└───┘└───┘    ░ └───┘┌─┴─┐ ░ └───┘ └╥┘  ║  ░ ┌─┴─┐ │  ░ ┌─┐\n",
              "q_2: ───────────────────░──────┤ X ├─░────────╫───╫──░─┤ X ├─■──░─┤M├\n",
              "                        ░      └───┘ ░        ║   ║  ░ └───┘    ░ └╥┘\n",
              "c: 3/═════════════════════════════════════════╩═══╩════════════════╩═\n",
              "                                              1   0                2 </pre>"
            ]
          },
          "metadata": {},
          "execution_count": 6
        }
      ]
    },
    {
      "cell_type": "code",
      "source": [
        "backend=Aer.get_backend('aer_simulator')\n",
        "result=backend.run(qc).result()\n",
        "count=result.get_counts(qc)\n",
        "plot_histogram(count)"
      ],
      "metadata": {
        "colab": {
          "base_uri": "https://localhost:8080/",
          "height": 340
        },
        "id": "Bu2B3x6F00O_",
        "outputId": "111accf3-3864-4c0e-fb6d-c07ec6c5278d"
      },
      "execution_count": 7,
      "outputs": [
        {
          "output_type": "execute_result",
          "data": {
            "text/plain": [
              "<Figure size 504x360 with 1 Axes>"
            ],
            "image/png": "[encoded data removed]"
          },
          "metadata": {},
          "execution_count": 7
        }
      ]
    },
    {
      "cell_type": "code",
      "source": [
        ""
      ],
      "metadata": {
        "id": "nrqqZESq1JBP"
      },
      "execution_count": null,
      "outputs": []
    }
  ]
}