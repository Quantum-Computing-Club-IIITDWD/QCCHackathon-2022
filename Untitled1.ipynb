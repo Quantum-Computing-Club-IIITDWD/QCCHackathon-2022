{
 "cells": [
  {
   "cell_type": "code",
   "execution_count": 1,
   "id": "3c2971e9",
   "metadata": {},
   "outputs": [],
   "source": [
    "from qiskit import * \n",
    "from qiskit.visualization import plot_histogram"
   ]
  },
  {
   "cell_type": "code",
   "execution_count": 2,
   "id": "3adce59d",
   "metadata": {},
   "outputs": [
    {
     "data": {
      "text/html": [
       "<pre style=\"word-wrap: normal;white-space: pre;background: #fff0;line-height: 1.1;font-family: &quot;Courier New&quot;,Courier,monospace\">     ┌───┐           ░ \n",
       "q_0: ┤ H ├───────────░─\n",
       "     ├───┤┌───┐┌───┐ ░ \n",
       "q_1: ┤ X ├┤ Z ├┤ X ├─░─\n",
       "     └───┘└───┘└───┘ ░ \n",
       "q_2: ────────────────░─\n",
       "                     ░ \n",
       "q_3: ────────────────░─\n",
       "                     ░ \n",
       "q_4: ────────────────░─\n",
       "                     ░ \n",
       "q_5: ────────────────░─\n",
       "                     ░ \n",
       "c: 2/══════════════════\n",
       "                       </pre>"
      ],
      "text/plain": [
       "     ┌───┐           ░ \n",
       "q_0: ┤ H ├───────────░─\n",
       "     ├───┤┌───┐┌───┐ ░ \n",
       "q_1: ┤ X ├┤ Z ├┤ X ├─░─\n",
       "     └───┘└───┘└───┘ ░ \n",
       "q_2: ────────────────░─\n",
       "                     ░ \n",
       "q_3: ────────────────░─\n",
       "                     ░ \n",
       "q_4: ────────────────░─\n",
       "                     ░ \n",
       "q_5: ────────────────░─\n",
       "                     ░ \n",
       "c: 2/══════════════════\n",
       "                       "
      ]
     },
     "execution_count": 2,
     "metadata": {},
     "output_type": "execute_result"
    }
   ],
   "source": [
    "#Circuit to encrypt 00 \n",
    "\n",
    "qc = QuantumCircuit(6,2)\n",
    "%matplotlib inline\n",
    "\n",
    "qc.h(0)\n",
    "qc.x(1)\n",
    "qc.z(1)\n",
    "qc.x(1)\n",
    "qc.barrier()\n",
    "qc.draw()"
   ]
  },
  {
   "cell_type": "code",
   "execution_count": 3,
   "id": "82b1cf27",
   "metadata": {},
   "outputs": [
    {
     "data": {
      "text/html": [
       "<pre style=\"word-wrap: normal;white-space: pre;background: #fff0;line-height: 1.1;font-family: &quot;Courier New&quot;,Courier,monospace\">     ┌───┐           ░                ┌───┐                 ░ \n",
       "q_0: ┤ H ├───────────░─────────────■──┤ H ├───────────■─────░─\n",
       "     ├───┤┌───┐┌───┐ ░             │  └───┘┌───┐      │     ░ \n",
       "q_1: ┤ X ├┤ Z ├┤ X ├─░─────────────┼────■──┤ H ├──────┼──■──░─\n",
       "     └───┘└───┘└───┘ ░ ┌───┐     ┌─┴─┐  │  └───┘      │  │  ░ \n",
       "q_2: ────────────────░─┤ H ├──■──┤ X ├──┼────■────────┼──┼──░─\n",
       "                     ░ ├───┤  │  └───┘┌─┴─┐  │        │  │  ░ \n",
       "q_3: ────────────────░─┤ H ├──┼────■──┤ X ├──┼────■───┼──┼──░─\n",
       "                     ░ └───┘┌─┴─┐  │  └───┘┌─┴─┐  │   │  │  ░ \n",
       "q_4: ────────────────░──────┤ X ├──┼───────┤ X ├──┼───■──┼──░─\n",
       "                     ░      └───┘┌─┴─┐     └───┘┌─┴─┐    │  ░ \n",
       "q_5: ────────────────░───────────┤ X ├──────────┤ X ├────■──░─\n",
       "                     ░           └───┘          └───┘       ░ \n",
       "c: 2/═════════════════════════════════════════════════════════\n",
       "                                                              </pre>"
      ],
      "text/plain": [
       "     ┌───┐           ░                ┌───┐                 ░ \n",
       "q_0: ┤ H ├───────────░─────────────■──┤ H ├───────────■─────░─\n",
       "     ├───┤┌───┐┌───┐ ░             │  └───┘┌───┐      │     ░ \n",
       "q_1: ┤ X ├┤ Z ├┤ X ├─░─────────────┼────■──┤ H ├──────┼──■──░─\n",
       "     └───┘└───┘└───┘ ░ ┌───┐     ┌─┴─┐  │  └───┘      │  │  ░ \n",
       "q_2: ────────────────░─┤ H ├──■──┤ X ├──┼────■────────┼──┼──░─\n",
       "                     ░ ├───┤  │  └───┘┌─┴─┐  │        │  │  ░ \n",
       "q_3: ────────────────░─┤ H ├──┼────■──┤ X ├──┼────■───┼──┼──░─\n",
       "                     ░ └───┘┌─┴─┐  │  └───┘┌─┴─┐  │   │  │  ░ \n",
       "q_4: ────────────────░──────┤ X ├──┼───────┤ X ├──┼───■──┼──░─\n",
       "                     ░      └───┘┌─┴─┐     └───┘┌─┴─┐    │  ░ \n",
       "q_5: ────────────────░───────────┤ X ├──────────┤ X ├────■──░─\n",
       "                     ░           └───┘          └───┘       ░ \n",
       "c: 2/═════════════════════════════════════════════════════════\n",
       "                                                              "
      ]
     },
     "execution_count": 3,
     "metadata": {},
     "output_type": "execute_result"
    }
   ],
   "source": [
    "qc.h(2)\n",
    "qc.cx(2,4)\n",
    "qc.h(3)\n",
    "qc.cx(3,5)\n",
    "qc.cx(0,2)\n",
    "qc.h(0)\n",
    "qc.cx(1,3)\n",
    "qc.h(1)\n",
    "qc.cx(2,4)\n",
    "qc.cz(0,4)\n",
    "qc.cx(3,5)\n",
    "qc.cz(1,5)\n",
    "qc.barrier()\n",
    "qc.draw()\n",
    "#Teleportation "
   ]
  },
  {
   "cell_type": "code",
   "execution_count": null,
   "id": "5ce6e740",
   "metadata": {},
   "outputs": [],
   "source": []
  },
  {
   "cell_type": "code",
   "execution_count": null,
   "id": "5e7847cf",
   "metadata": {},
   "outputs": [],
   "source": []
  },
  {
   "cell_type": "code",
   "execution_count": 4,
   "id": "1e962683",
   "metadata": {},
   "outputs": [
    {
     "data": {
      "text/html": [
       "<pre style=\"word-wrap: normal;white-space: pre;background: #fff0;line-height: 1.1;font-family: &quot;Courier New&quot;,Courier,monospace\">     ┌───┐           ░                ┌───┐                 ░                \n",
       "q_0: ┤ H ├───────────░─────────────■──┤ H ├───────────■─────░────────────────\n",
       "     ├───┤┌───┐┌───┐ ░             │  └───┘┌───┐      │     ░                \n",
       "q_1: ┤ X ├┤ Z ├┤ X ├─░─────────────┼────■──┤ H ├──────┼──■──░────────────────\n",
       "     └───┘└───┘└───┘ ░ ┌───┐     ┌─┴─┐  │  └───┘      │  │  ░                \n",
       "q_2: ────────────────░─┤ H ├──■──┤ X ├──┼────■────────┼──┼──░────────────────\n",
       "                     ░ ├───┤  │  └───┘┌─┴─┐  │        │  │  ░                \n",
       "q_3: ────────────────░─┤ H ├──┼────■──┤ X ├──┼────■───┼──┼──░────────────────\n",
       "                     ░ └───┘┌─┴─┐  │  └───┘┌─┴─┐  │   │  │  ░ ┌───┐          \n",
       "q_4: ────────────────░──────┤ X ├──┼───────┤ X ├──┼───■──┼──░─┤ H ├──────────\n",
       "                     ░      └───┘┌─┴─┐     └───┘┌─┴─┐    │  ░ ├───┤┌───┐┌───┐\n",
       "q_5: ────────────────░───────────┤ X ├──────────┤ X ├────■──░─┤ X ├┤ Z ├┤ X ├\n",
       "                     ░           └───┘          └───┘       ░ └───┘└───┘└───┘\n",
       "c: 2/════════════════════════════════════════════════════════════════════════\n",
       "                                                                             </pre>"
      ],
      "text/plain": [
       "     ┌───┐           ░                ┌───┐                 ░                \n",
       "q_0: ┤ H ├───────────░─────────────■──┤ H ├───────────■─────░────────────────\n",
       "     ├───┤┌───┐┌───┐ ░             │  └───┘┌───┐      │     ░                \n",
       "q_1: ┤ X ├┤ Z ├┤ X ├─░─────────────┼────■──┤ H ├──────┼──■──░────────────────\n",
       "     └───┘└───┘└───┘ ░ ┌───┐     ┌─┴─┐  │  └───┘      │  │  ░                \n",
       "q_2: ────────────────░─┤ H ├──■──┤ X ├──┼────■────────┼──┼──░────────────────\n",
       "                     ░ ├───┤  │  └───┘┌─┴─┐  │        │  │  ░                \n",
       "q_3: ────────────────░─┤ H ├──┼────■──┤ X ├──┼────■───┼──┼──░────────────────\n",
       "                     ░ └───┘┌─┴─┐  │  └───┘┌─┴─┐  │   │  │  ░ ┌───┐          \n",
       "q_4: ────────────────░──────┤ X ├──┼───────┤ X ├──┼───■──┼──░─┤ H ├──────────\n",
       "                     ░      └───┘┌─┴─┐     └───┘┌─┴─┐    │  ░ ├───┤┌───┐┌───┐\n",
       "q_5: ────────────────░───────────┤ X ├──────────┤ X ├────■──░─┤ X ├┤ Z ├┤ X ├\n",
       "                     ░           └───┘          └───┘       ░ └───┘└───┘└───┘\n",
       "c: 2/════════════════════════════════════════════════════════════════════════\n",
       "                                                                             "
      ]
     },
     "execution_count": 4,
     "metadata": {},
     "output_type": "execute_result"
    }
   ],
   "source": [
    "qc.x(5)\n",
    "qc.z(5)\n",
    "qc.x(5)\n",
    "qc.h(4)\n",
    "qc.draw()\n",
    "#Decryption of data"
   ]
  },
  {
   "cell_type": "code",
   "execution_count": 5,
   "id": "ff108d00",
   "metadata": {},
   "outputs": [
    {
     "data": {
      "text/plain": [
       "<qiskit.circuit.instructionset.InstructionSet at 0x1809fd94800>"
      ]
     },
     "execution_count": 5,
     "metadata": {},
     "output_type": "execute_result"
    }
   ],
   "source": [
    "qc.measure([4,5],[0,1])"
   ]
  },
  {
   "cell_type": "code",
   "execution_count": 6,
   "id": "1664d45d",
   "metadata": {},
   "outputs": [
    {
     "data": {
      "image/png": "[encoded data removed]",
      "text/plain": [
       "<Figure size 1170.2x445.48 with 1 Axes>"
      ]
     },
     "execution_count": 6,
     "metadata": {},
     "output_type": "execute_result"
    }
   ],
   "source": [
    "qc.draw(output='mpl')"
   ]
  },
  {
   "cell_type": "code",
   "execution_count": 7,
   "id": "35049df4",
   "metadata": {},
   "outputs": [
    {
     "data": {
      "image/png": "[encoded data removed]",
      "text/plain": [
       "<Figure size 504x360 with 1 Axes>"
      ]
     },
     "execution_count": 7,
     "metadata": {},
     "output_type": "execute_result"
    }
   ],
   "source": [
    "\n",
    "backend=Aer.get_backend('aer_simulator')\n",
    "result=backend.run(qc,shots=1000).result()\n",
    "counts=result.get_counts()\n",
    "plot_histogram(counts)\n",
    "#Data Received"
   ]
  },
  {
   "cell_type": "code",
   "execution_count": 8,
   "id": "f4f63179",
   "metadata": {},
   "outputs": [
    {
     "data": {
      "text/html": [
       "<pre style=\"word-wrap: normal;white-space: pre;background: #fff0;line-height: 1.1;font-family: &quot;Courier New&quot;,Courier,monospace\">           ░ ┌───┐ ░ \n",
       "q_0: ──────░─┤ H ├─░─\n",
       "     ┌───┐ ░ ├───┤ ░ \n",
       "q_1: ┤ X ├─░─┤ Z ├─░─\n",
       "     └───┘ ░ └───┘ ░ \n",
       "q_2: ──────░───────░─\n",
       "           ░       ░ \n",
       "q_3: ──────░───────░─\n",
       "           ░       ░ \n",
       "q_4: ──────░───────░─\n",
       "           ░       ░ \n",
       "q_5: ──────░───────░─\n",
       "           ░       ░ \n",
       "c: 2/════════════════\n",
       "                     </pre>"
      ],
      "text/plain": [
       "           ░ ┌───┐ ░ \n",
       "q_0: ──────░─┤ H ├─░─\n",
       "     ┌───┐ ░ ├───┤ ░ \n",
       "q_1: ┤ X ├─░─┤ Z ├─░─\n",
       "     └───┘ ░ └───┘ ░ \n",
       "q_2: ──────░───────░─\n",
       "           ░       ░ \n",
       "q_3: ──────░───────░─\n",
       "           ░       ░ \n",
       "q_4: ──────░───────░─\n",
       "           ░       ░ \n",
       "q_5: ──────░───────░─\n",
       "           ░       ░ \n",
       "c: 2/════════════════\n",
       "                     "
      ]
     },
     "execution_count": 8,
     "metadata": {},
     "output_type": "execute_result"
    }
   ],
   "source": [
    "#Circuit to encrypt 01\n",
    "\n",
    "qc = QuantumCircuit(6,2)\n",
    "%matplotlib inline\n",
    "qc.x(1)\n",
    "#Setting Qubit to 01\n",
    "qc.barrier()\n",
    "qc.h(0)\n",
    "qc.z(1)\n",
    "qc.barrier()\n",
    "qc.draw()\n"
   ]
  },
  {
   "cell_type": "code",
   "execution_count": 9,
   "id": "8d2ed3c4",
   "metadata": {},
   "outputs": [
    {
     "data": {
      "text/html": [
       "<pre style=\"word-wrap: normal;white-space: pre;background: #fff0;line-height: 1.1;font-family: &quot;Courier New&quot;,Courier,monospace\">           ░ ┌───┐ ░                ┌───┐                 ░ \n",
       "q_0: ──────░─┤ H ├─░─────────────■──┤ H ├───────────■─────░─\n",
       "     ┌───┐ ░ ├───┤ ░             │  └───┘┌───┐      │     ░ \n",
       "q_1: ┤ X ├─░─┤ Z ├─░─────────────┼────■──┤ H ├──────┼──■──░─\n",
       "     └───┘ ░ └───┘ ░ ┌───┐     ┌─┴─┐  │  └───┘      │  │  ░ \n",
       "q_2: ──────░───────░─┤ H ├──■──┤ X ├──┼────■────────┼──┼──░─\n",
       "           ░       ░ ├───┤  │  └───┘┌─┴─┐  │        │  │  ░ \n",
       "q_3: ──────░───────░─┤ H ├──┼────■──┤ X ├──┼────■───┼──┼──░─\n",
       "           ░       ░ └───┘┌─┴─┐  │  └───┘┌─┴─┐  │   │  │  ░ \n",
       "q_4: ──────░───────░──────┤ X ├──┼───────┤ X ├──┼───■──┼──░─\n",
       "           ░       ░      └───┘┌─┴─┐     └───┘┌─┴─┐    │  ░ \n",
       "q_5: ──────░───────░───────────┤ X ├──────────┤ X ├────■──░─\n",
       "           ░       ░           └───┘          └───┘       ░ \n",
       "c: 2/═══════════════════════════════════════════════════════\n",
       "                                                            </pre>"
      ],
      "text/plain": [
       "           ░ ┌───┐ ░                ┌───┐                 ░ \n",
       "q_0: ──────░─┤ H ├─░─────────────■──┤ H ├───────────■─────░─\n",
       "     ┌───┐ ░ ├───┤ ░             │  └───┘┌───┐      │     ░ \n",
       "q_1: ┤ X ├─░─┤ Z ├─░─────────────┼────■──┤ H ├──────┼──■──░─\n",
       "     └───┘ ░ └───┘ ░ ┌───┐     ┌─┴─┐  │  └───┘      │  │  ░ \n",
       "q_2: ──────░───────░─┤ H ├──■──┤ X ├──┼────■────────┼──┼──░─\n",
       "           ░       ░ ├───┤  │  └───┘┌─┴─┐  │        │  │  ░ \n",
       "q_3: ──────░───────░─┤ H ├──┼────■──┤ X ├──┼────■───┼──┼──░─\n",
       "           ░       ░ └───┘┌─┴─┐  │  └───┘┌─┴─┐  │   │  │  ░ \n",
       "q_4: ──────░───────░──────┤ X ├──┼───────┤ X ├──┼───■──┼──░─\n",
       "           ░       ░      └───┘┌─┴─┐     └───┘┌─┴─┐    │  ░ \n",
       "q_5: ──────░───────░───────────┤ X ├──────────┤ X ├────■──░─\n",
       "           ░       ░           └───┘          └───┘       ░ \n",
       "c: 2/═══════════════════════════════════════════════════════\n",
       "                                                            "
      ]
     },
     "execution_count": 9,
     "metadata": {},
     "output_type": "execute_result"
    }
   ],
   "source": [
    "\n",
    "#Teleportation \n",
    "qc.h(2)\n",
    "qc.cx(2,4)\n",
    "qc.h(3)\n",
    "qc.cx(3,5)\n",
    "qc.cx(0,2)\n",
    "qc.h(0)\n",
    "qc.cx(1,3)\n",
    "qc.h(1)\n",
    "qc.cx(2,4)\n",
    "qc.cz(0,4)\n",
    "qc.cx(3,5)\n",
    "qc.cz(1,5)\n",
    "qc.barrier()\n",
    "qc.draw()"
   ]
  },
  {
   "cell_type": "code",
   "execution_count": 10,
   "id": "108390c0",
   "metadata": {},
   "outputs": [
    {
     "data": {
      "text/html": [
       "<pre style=\"word-wrap: normal;white-space: pre;background: #fff0;line-height: 1.1;font-family: &quot;Courier New&quot;,Courier,monospace\">           ░ ┌───┐ ░                ┌───┐                 ░      \n",
       "q_0: ──────░─┤ H ├─░─────────────■──┤ H ├───────────■─────░──────\n",
       "     ┌───┐ ░ ├───┤ ░             │  └───┘┌───┐      │     ░      \n",
       "q_1: ┤ X ├─░─┤ Z ├─░─────────────┼────■──┤ H ├──────┼──■──░──────\n",
       "     └───┘ ░ └───┘ ░ ┌───┐     ┌─┴─┐  │  └───┘      │  │  ░      \n",
       "q_2: ──────░───────░─┤ H ├──■──┤ X ├──┼────■────────┼──┼──░──────\n",
       "           ░       ░ ├───┤  │  └───┘┌─┴─┐  │        │  │  ░      \n",
       "q_3: ──────░───────░─┤ H ├──┼────■──┤ X ├──┼────■───┼──┼──░──────\n",
       "           ░       ░ └───┘┌─┴─┐  │  └───┘┌─┴─┐  │   │  │  ░ ┌───┐\n",
       "q_4: ──────░───────░──────┤ X ├──┼───────┤ X ├──┼───■──┼──░─┤ H ├\n",
       "           ░       ░      └───┘┌─┴─┐     └───┘┌─┴─┐    │  ░ ├───┤\n",
       "q_5: ──────░───────░───────────┤ X ├──────────┤ X ├────■──░─┤ Z ├\n",
       "           ░       ░           └───┘          └───┘       ░ └───┘\n",
       "c: 2/════════════════════════════════════════════════════════════\n",
       "                                                                 </pre>"
      ],
      "text/plain": [
       "           ░ ┌───┐ ░                ┌───┐                 ░      \n",
       "q_0: ──────░─┤ H ├─░─────────────■──┤ H ├───────────■─────░──────\n",
       "     ┌───┐ ░ ├───┤ ░             │  └───┘┌───┐      │     ░      \n",
       "q_1: ┤ X ├─░─┤ Z ├─░─────────────┼────■──┤ H ├──────┼──■──░──────\n",
       "     └───┘ ░ └───┘ ░ ┌───┐     ┌─┴─┐  │  └───┘      │  │  ░      \n",
       "q_2: ──────░───────░─┤ H ├──■──┤ X ├──┼────■────────┼──┼──░──────\n",
       "           ░       ░ ├───┤  │  └───┘┌─┴─┐  │        │  │  ░      \n",
       "q_3: ──────░───────░─┤ H ├──┼────■──┤ X ├──┼────■───┼──┼──░──────\n",
       "           ░       ░ └───┘┌─┴─┐  │  └───┘┌─┴─┐  │   │  │  ░ ┌───┐\n",
       "q_4: ──────░───────░──────┤ X ├──┼───────┤ X ├──┼───■──┼──░─┤ H ├\n",
       "           ░       ░      └───┘┌─┴─┐     └───┘┌─┴─┐    │  ░ ├───┤\n",
       "q_5: ──────░───────░───────────┤ X ├──────────┤ X ├────■──░─┤ Z ├\n",
       "           ░       ░           └───┘          └───┘       ░ └───┘\n",
       "c: 2/════════════════════════════════════════════════════════════\n",
       "                                                                 "
      ]
     },
     "execution_count": 10,
     "metadata": {},
     "output_type": "execute_result"
    }
   ],
   "source": [
    "qc.z(5)\n",
    "qc.h(4)\n",
    "qc.draw()\n",
    "#Decryption"
   ]
  },
  {
   "cell_type": "code",
   "execution_count": 11,
   "id": "d71a286c",
   "metadata": {},
   "outputs": [
    {
     "data": {
      "text/plain": [
       "<qiskit.circuit.instructionset.InstructionSet at 0x180d9672140>"
      ]
     },
     "execution_count": 11,
     "metadata": {},
     "output_type": "execute_result"
    }
   ],
   "source": [
    "qc.measure([4,5],[0,1])"
   ]
  },
  {
   "cell_type": "code",
   "execution_count": 12,
   "id": "40481772",
   "metadata": {},
   "outputs": [
    {
     "data": {
      "image/png": "[encoded data removed]",
      "text/plain": [
       "<Figure size 1049.8x445.48 with 1 Axes>"
      ]
     },
     "execution_count": 12,
     "metadata": {},
     "output_type": "execute_result"
    }
   ],
   "source": [
    "qc.draw(output='mpl')"
   ]
  },
  {
   "cell_type": "code",
   "execution_count": 13,
   "id": "af7875b4",
   "metadata": {},
   "outputs": [
    {
     "data": {
      "image/png": "[encoded data removed]",
      "text/plain": [
       "<Figure size 504x360 with 1 Axes>"
      ]
     },
     "execution_count": 13,
     "metadata": {},
     "output_type": "execute_result"
    }
   ],
   "source": [
    "backend=Aer.get_backend('aer_simulator')\n",
    "result=backend.run(qc,shots=1000).result()\n",
    "counts=result.get_counts()\n",
    "plot_histogram(counts)\n",
    "#Data Recieved"
   ]
  },
  {
   "cell_type": "code",
   "execution_count": 14,
   "id": "6b1ff4f7",
   "metadata": {},
   "outputs": [
    {
     "data": {
      "text/html": [
       "<pre style=\"word-wrap: normal;white-space: pre;background: #fff0;line-height: 1.1;font-family: &quot;Courier New&quot;,Courier,monospace\">     ┌───┐ ░ ┌───┐┌───┐┌───┐ ░ \n",
       "q_0: ┤ X ├─░─┤ Z ├┤ X ├┤ H ├─░─\n",
       "     └───┘ ░ └───┘└───┘└───┘ ░ \n",
       "q_1: ──────░─────────────────░─\n",
       "           ░                 ░ \n",
       "q_2: ──────░─────────────────░─\n",
       "           ░                 ░ \n",
       "q_3: ──────░─────────────────░─\n",
       "           ░                 ░ \n",
       "q_4: ──────░─────────────────░─\n",
       "           ░                 ░ \n",
       "q_5: ──────░─────────────────░─\n",
       "           ░                 ░ \n",
       "c: 2/══════════════════════════\n",
       "                               </pre>"
      ],
      "text/plain": [
       "     ┌───┐ ░ ┌───┐┌───┐┌───┐ ░ \n",
       "q_0: ┤ X ├─░─┤ Z ├┤ X ├┤ H ├─░─\n",
       "     └───┘ ░ └───┘└───┘└───┘ ░ \n",
       "q_1: ──────░─────────────────░─\n",
       "           ░                 ░ \n",
       "q_2: ──────░─────────────────░─\n",
       "           ░                 ░ \n",
       "q_3: ──────░─────────────────░─\n",
       "           ░                 ░ \n",
       "q_4: ──────░─────────────────░─\n",
       "           ░                 ░ \n",
       "q_5: ──────░─────────────────░─\n",
       "           ░                 ░ \n",
       "c: 2/══════════════════════════\n",
       "                               "
      ]
     },
     "execution_count": 14,
     "metadata": {},
     "output_type": "execute_result"
    }
   ],
   "source": [
    "#Circuit to encrypt 10\n",
    "\n",
    "qc = QuantumCircuit(6,2)\n",
    "%matplotlib inline\n",
    "\n",
    "qc.x(0)\n",
    "#Setting qubit to 10\n",
    "qc.barrier()\n",
    "qc.z(0)\n",
    "qc.x(0)\n",
    "qc.h(0)\n",
    "qc.barrier()\n",
    "qc.draw()\n"
   ]
  },
  {
   "cell_type": "code",
   "execution_count": 15,
   "id": "d2d952bc",
   "metadata": {},
   "outputs": [
    {
     "data": {
      "text/html": [
       "<pre style=\"word-wrap: normal;white-space: pre;background: #fff0;line-height: 1.1;font-family: &quot;Courier New&quot;,Courier,monospace\">     ┌───┐ ░ ┌───┐┌───┐┌───┐ ░                ┌───┐                 ░ \n",
       "q_0: ┤ X ├─░─┤ Z ├┤ X ├┤ H ├─░─────────────■──┤ H ├───────────■─────░─\n",
       "     └───┘ ░ └───┘└───┘└───┘ ░             │  └───┘┌───┐      │     ░ \n",
       "q_1: ──────░─────────────────░─────────────┼────■──┤ H ├──────┼──■──░─\n",
       "           ░                 ░ ┌───┐     ┌─┴─┐  │  └───┘      │  │  ░ \n",
       "q_2: ──────░─────────────────░─┤ H ├──■──┤ X ├──┼────■────────┼──┼──░─\n",
       "           ░                 ░ ├───┤  │  └───┘┌─┴─┐  │        │  │  ░ \n",
       "q_3: ──────░─────────────────░─┤ H ├──┼────■──┤ X ├──┼────■───┼──┼──░─\n",
       "           ░                 ░ └───┘┌─┴─┐  │  └───┘┌─┴─┐  │   │  │  ░ \n",
       "q_4: ──────░─────────────────░──────┤ X ├──┼───────┤ X ├──┼───■──┼──░─\n",
       "           ░                 ░      └───┘┌─┴─┐     └───┘┌─┴─┐    │  ░ \n",
       "q_5: ──────░─────────────────░───────────┤ X ├──────────┤ X ├────■──░─\n",
       "           ░                 ░           └───┘          └───┘       ░ \n",
       "c: 2/═════════════════════════════════════════════════════════════════\n",
       "                                                                      </pre>"
      ],
      "text/plain": [
       "     ┌───┐ ░ ┌───┐┌───┐┌───┐ ░                ┌───┐                 ░ \n",
       "q_0: ┤ X ├─░─┤ Z ├┤ X ├┤ H ├─░─────────────■──┤ H ├───────────■─────░─\n",
       "     └───┘ ░ └───┘└───┘└───┘ ░             │  └───┘┌───┐      │     ░ \n",
       "q_1: ──────░─────────────────░─────────────┼────■──┤ H ├──────┼──■──░─\n",
       "           ░                 ░ ┌───┐     ┌─┴─┐  │  └───┘      │  │  ░ \n",
       "q_2: ──────░─────────────────░─┤ H ├──■──┤ X ├──┼────■────────┼──┼──░─\n",
       "           ░                 ░ ├───┤  │  └───┘┌─┴─┐  │        │  │  ░ \n",
       "q_3: ──────░─────────────────░─┤ H ├──┼────■──┤ X ├──┼────■───┼──┼──░─\n",
       "           ░                 ░ └───┘┌─┴─┐  │  └───┘┌─┴─┐  │   │  │  ░ \n",
       "q_4: ──────░─────────────────░──────┤ X ├──┼───────┤ X ├──┼───■──┼──░─\n",
       "           ░                 ░      └───┘┌─┴─┐     └───┘┌─┴─┐    │  ░ \n",
       "q_5: ──────░─────────────────░───────────┤ X ├──────────┤ X ├────■──░─\n",
       "           ░                 ░           └───┘          └───┘       ░ \n",
       "c: 2/═════════════════════════════════════════════════════════════════\n",
       "                                                                      "
      ]
     },
     "execution_count": 15,
     "metadata": {},
     "output_type": "execute_result"
    }
   ],
   "source": [
    "#Teleportation\n",
    "qc.h(2)\n",
    "qc.cx(2,4)\n",
    "qc.h(3)\n",
    "qc.cx(3,5)\n",
    "qc.cx(0,2)\n",
    "qc.h(0)\n",
    "qc.cx(1,3)\n",
    "qc.h(1)\n",
    "qc.cx(2,4)\n",
    "qc.cz(0,4)\n",
    "qc.cx(3,5)\n",
    "qc.cz(1,5)\n",
    "qc.barrier()\n",
    "qc.draw()"
   ]
  },
  {
   "cell_type": "code",
   "execution_count": 16,
   "id": "acb4effe",
   "metadata": {},
   "outputs": [
    {
     "data": {
      "image/png": "[encoded data removed]",
      "text/plain": [
       "<Figure size 1170.2x445.48 with 1 Axes>"
      ]
     },
     "execution_count": 16,
     "metadata": {},
     "output_type": "execute_result"
    }
   ],
   "source": [
    "#Decryption\n",
    "qc.h(4)\n",
    "qc.x(4)\n",
    "qc.z(4)\n",
    "qc.draw(output='mpl')"
   ]
  },
  {
   "cell_type": "code",
   "execution_count": 17,
   "id": "09d08435",
   "metadata": {},
   "outputs": [
    {
     "data": {
      "image/png": "[encoded data removed]",
      "text/plain": [
       "<Figure size 504x360 with 1 Axes>"
      ]
     },
     "execution_count": 17,
     "metadata": {},
     "output_type": "execute_result"
    }
   ],
   "source": [
    "qc.measure([4,5],[0,1])\n",
    "backend=Aer.get_backend('aer_simulator')\n",
    "result=backend.run(qc,shots=1000).result()\n",
    "counts=result.get_counts()\n",
    "plot_histogram(counts)\n",
    "#Encrypted data"
   ]
  },
  {
   "cell_type": "code",
   "execution_count": 18,
   "id": "a5329345",
   "metadata": {},
   "outputs": [
    {
     "data": {
      "text/html": [
       "<pre style=\"word-wrap: normal;white-space: pre;background: #fff0;line-height: 1.1;font-family: &quot;Courier New&quot;,Courier,monospace\">     ┌───┐ ░ \n",
       "q_0: ┤ X ├─░─\n",
       "     ├───┤ ░ \n",
       "q_1: ┤ X ├─░─\n",
       "     └───┘ ░ \n",
       "q_2: ──────░─\n",
       "           ░ \n",
       "q_3: ──────░─\n",
       "           ░ \n",
       "q_4: ──────░─\n",
       "           ░ \n",
       "q_5: ──────░─\n",
       "           ░ \n",
       "c: 2/════════\n",
       "             </pre>"
      ],
      "text/plain": [
       "     ┌───┐ ░ \n",
       "q_0: ┤ X ├─░─\n",
       "     ├───┤ ░ \n",
       "q_1: ┤ X ├─░─\n",
       "     └───┘ ░ \n",
       "q_2: ──────░─\n",
       "           ░ \n",
       "q_3: ──────░─\n",
       "           ░ \n",
       "q_4: ──────░─\n",
       "           ░ \n",
       "q_5: ──────░─\n",
       "           ░ \n",
       "c: 2/════════\n",
       "             "
      ]
     },
     "execution_count": 18,
     "metadata": {},
     "output_type": "execute_result"
    }
   ],
   "source": [
    "#Circuit to encrypt 11\n",
    "\n",
    "qc = QuantumCircuit(6,2)\n",
    "%matplotlib inline\n",
    "\n",
    "#Setting both qubit to 1\n",
    "qc.x(0)\n",
    "qc.x(1)\n",
    "qc.barrier()\n",
    "qc.draw()"
   ]
  },
  {
   "cell_type": "code",
   "execution_count": 19,
   "id": "c0ec0bb8",
   "metadata": {},
   "outputs": [
    {
     "data": {
      "text/html": [
       "<pre style=\"word-wrap: normal;white-space: pre;background: #fff0;line-height: 1.1;font-family: &quot;Courier New&quot;,Courier,monospace\">     ┌───┐ ░ ┌───┐┌───┐ ░ \n",
       "q_0: ┤ X ├─░─┤ X ├┤ H ├─░─\n",
       "     ├───┤ ░ ├───┤└───┘ ░ \n",
       "q_1: ┤ X ├─░─┤ Z ├──────░─\n",
       "     └───┘ ░ └───┘      ░ \n",
       "q_2: ──────░────────────░─\n",
       "           ░            ░ \n",
       "q_3: ──────░────────────░─\n",
       "           ░            ░ \n",
       "q_4: ──────░────────────░─\n",
       "           ░            ░ \n",
       "q_5: ──────░────────────░─\n",
       "           ░            ░ \n",
       "c: 2/═════════════════════\n",
       "                          </pre>"
      ],
      "text/plain": [
       "     ┌───┐ ░ ┌───┐┌───┐ ░ \n",
       "q_0: ┤ X ├─░─┤ X ├┤ H ├─░─\n",
       "     ├───┤ ░ ├───┤└───┘ ░ \n",
       "q_1: ┤ X ├─░─┤ Z ├──────░─\n",
       "     └───┘ ░ └───┘      ░ \n",
       "q_2: ──────░────────────░─\n",
       "           ░            ░ \n",
       "q_3: ──────░────────────░─\n",
       "           ░            ░ \n",
       "q_4: ──────░────────────░─\n",
       "           ░            ░ \n",
       "q_5: ──────░────────────░─\n",
       "           ░            ░ \n",
       "c: 2/═════════════════════\n",
       "                          "
      ]
     },
     "execution_count": 19,
     "metadata": {},
     "output_type": "execute_result"
    }
   ],
   "source": [
    "#Encrypting Data\n",
    "qc.x(0)\n",
    "qc.h(0)\n",
    "qc.z(1)\n",
    "qc.barrier()\n",
    "qc.draw()"
   ]
  },
  {
   "cell_type": "code",
   "execution_count": 20,
   "id": "af8192db",
   "metadata": {},
   "outputs": [
    {
     "data": {
      "text/html": [
       "<pre style=\"word-wrap: normal;white-space: pre;background: #fff0;line-height: 1.1;font-family: &quot;Courier New&quot;,Courier,monospace\">     ┌───┐ ░ ┌───┐┌───┐ ░                ┌───┐                 ░ \n",
       "q_0: ┤ X ├─░─┤ X ├┤ H ├─░─────────────■──┤ H ├───────────■─────░─\n",
       "     ├───┤ ░ ├───┤└───┘ ░             │  └───┘┌───┐      │     ░ \n",
       "q_1: ┤ X ├─░─┤ Z ├──────░─────────────┼────■──┤ H ├──────┼──■──░─\n",
       "     └───┘ ░ └───┘      ░ ┌───┐     ┌─┴─┐  │  └───┘      │  │  ░ \n",
       "q_2: ──────░────────────░─┤ H ├──■──┤ X ├──┼────■────────┼──┼──░─\n",
       "           ░            ░ ├───┤  │  └───┘┌─┴─┐  │        │  │  ░ \n",
       "q_3: ──────░────────────░─┤ H ├──┼────■──┤ X ├──┼────■───┼──┼──░─\n",
       "           ░            ░ └───┘┌─┴─┐  │  └───┘┌─┴─┐  │   │  │  ░ \n",
       "q_4: ──────░────────────░──────┤ X ├──┼───────┤ X ├──┼───■──┼──░─\n",
       "           ░            ░      └───┘┌─┴─┐     └───┘┌─┴─┐    │  ░ \n",
       "q_5: ──────░────────────░───────────┤ X ├──────────┤ X ├────■──░─\n",
       "           ░            ░           └───┘          └───┘       ░ \n",
       "c: 2/════════════════════════════════════════════════════════════\n",
       "                                                                 </pre>"
      ],
      "text/plain": [
       "     ┌───┐ ░ ┌───┐┌───┐ ░                ┌───┐                 ░ \n",
       "q_0: ┤ X ├─░─┤ X ├┤ H ├─░─────────────■──┤ H ├───────────■─────░─\n",
       "     ├───┤ ░ ├───┤└───┘ ░             │  └───┘┌───┐      │     ░ \n",
       "q_1: ┤ X ├─░─┤ Z ├──────░─────────────┼────■──┤ H ├──────┼──■──░─\n",
       "     └───┘ ░ └───┘      ░ ┌───┐     ┌─┴─┐  │  └───┘      │  │  ░ \n",
       "q_2: ──────░────────────░─┤ H ├──■──┤ X ├──┼────■────────┼──┼──░─\n",
       "           ░            ░ ├───┤  │  └───┘┌─┴─┐  │        │  │  ░ \n",
       "q_3: ──────░────────────░─┤ H ├──┼────■──┤ X ├──┼────■───┼──┼──░─\n",
       "           ░            ░ └───┘┌─┴─┐  │  └───┘┌─┴─┐  │   │  │  ░ \n",
       "q_4: ──────░────────────░──────┤ X ├──┼───────┤ X ├──┼───■──┼──░─\n",
       "           ░            ░      └───┘┌─┴─┐     └───┘┌─┴─┐    │  ░ \n",
       "q_5: ──────░────────────░───────────┤ X ├──────────┤ X ├────■──░─\n",
       "           ░            ░           └───┘          └───┘       ░ \n",
       "c: 2/════════════════════════════════════════════════════════════\n",
       "                                                                 "
      ]
     },
     "execution_count": 20,
     "metadata": {},
     "output_type": "execute_result"
    }
   ],
   "source": [
    "#Teleportation\n",
    "\n",
    "qc.h(2)\n",
    "qc.cx(2,4)\n",
    "qc.h(3)\n",
    "qc.cx(3,5)\n",
    "qc.cx(0,2)\n",
    "qc.h(0)\n",
    "qc.cx(1,3)\n",
    "qc.h(1)\n",
    "qc.cx(2,4)\n",
    "qc.cz(0,4)\n",
    "qc.cx(3,5)\n",
    "qc.cz(1,5)\n",
    "qc.barrier()\n",
    "qc.draw()"
   ]
  },
  {
   "cell_type": "code",
   "execution_count": 21,
   "id": "22175c16",
   "metadata": {},
   "outputs": [
    {
     "data": {
      "text/html": [
       "<pre style=\"word-wrap: normal;white-space: pre;background: #fff0;line-height: 1.1;font-family: &quot;Courier New&quot;,Courier,monospace\">     ┌───┐ ░ ┌───┐┌───┐ ░                ┌───┐                 ░           \n",
       "q_0: ┤ X ├─░─┤ X ├┤ H ├─░─────────────■──┤ H ├───────────■─────░───────────\n",
       "     ├───┤ ░ ├───┤└───┘ ░             │  └───┘┌───┐      │     ░           \n",
       "q_1: ┤ X ├─░─┤ Z ├──────░─────────────┼────■──┤ H ├──────┼──■──░───────────\n",
       "     └───┘ ░ └───┘      ░ ┌───┐     ┌─┴─┐  │  └───┘      │  │  ░           \n",
       "q_2: ──────░────────────░─┤ H ├──■──┤ X ├──┼────■────────┼──┼──░───────────\n",
       "           ░            ░ ├───┤  │  └───┘┌─┴─┐  │        │  │  ░           \n",
       "q_3: ──────░────────────░─┤ H ├──┼────■──┤ X ├──┼────■───┼──┼──░───────────\n",
       "           ░            ░ └───┘┌─┴─┐  │  └───┘┌─┴─┐  │   │  │  ░ ┌───┐┌───┐\n",
       "q_4: ──────░────────────░──────┤ X ├──┼───────┤ X ├──┼───■──┼──░─┤ H ├┤ X ├\n",
       "           ░            ░      └───┘┌─┴─┐     └───┘┌─┴─┐    │  ░ ├───┤└───┘\n",
       "q_5: ──────░────────────░───────────┤ X ├──────────┤ X ├────■──░─┤ Z ├─────\n",
       "           ░            ░           └───┘          └───┘       ░ └───┘     \n",
       "c: 2/══════════════════════════════════════════════════════════════════════\n",
       "                                                                           </pre>"
      ],
      "text/plain": [
       "     ┌───┐ ░ ┌───┐┌───┐ ░                ┌───┐                 ░           \n",
       "q_0: ┤ X ├─░─┤ X ├┤ H ├─░─────────────■──┤ H ├───────────■─────░───────────\n",
       "     ├───┤ ░ ├───┤└───┘ ░             │  └───┘┌───┐      │     ░           \n",
       "q_1: ┤ X ├─░─┤ Z ├──────░─────────────┼────■──┤ H ├──────┼──■──░───────────\n",
       "     └───┘ ░ └───┘      ░ ┌───┐     ┌─┴─┐  │  └───┘      │  │  ░           \n",
       "q_2: ──────░────────────░─┤ H ├──■──┤ X ├──┼────■────────┼──┼──░───────────\n",
       "           ░            ░ ├───┤  │  └───┘┌─┴─┐  │        │  │  ░           \n",
       "q_3: ──────░────────────░─┤ H ├──┼────■──┤ X ├──┼────■───┼──┼──░───────────\n",
       "           ░            ░ └───┘┌─┴─┐  │  └───┘┌─┴─┐  │   │  │  ░ ┌───┐┌───┐\n",
       "q_4: ──────░────────────░──────┤ X ├──┼───────┤ X ├──┼───■──┼──░─┤ H ├┤ X ├\n",
       "           ░            ░      └───┘┌─┴─┐     └───┘┌─┴─┐    │  ░ ├───┤└───┘\n",
       "q_5: ──────░────────────░───────────┤ X ├──────────┤ X ├────■──░─┤ Z ├─────\n",
       "           ░            ░           └───┘          └───┘       ░ └───┘     \n",
       "c: 2/══════════════════════════════════════════════════════════════════════\n",
       "                                                                           "
      ]
     },
     "execution_count": 21,
     "metadata": {},
     "output_type": "execute_result"
    }
   ],
   "source": [
    "#Decrypting Data\n",
    "qc.h(4)\n",
    "qc.z(5)\n",
    "qc.x(4)\n",
    "qc.draw()"
   ]
  },
  {
   "cell_type": "code",
   "execution_count": 22,
   "id": "3aa0bfbd",
   "metadata": {},
   "outputs": [
    {
     "data": {
      "image/png": "[encoded data removed]",
      "text/plain": [
       "<Figure size 504x360 with 1 Axes>"
      ]
     },
     "execution_count": 22,
     "metadata": {},
     "output_type": "execute_result"
    }
   ],
   "source": [
    "qc.measure([4,5],[0,1])\n",
    "backend=Aer.get_backend('aer_simulator')\n",
    "result=backend.run(qc,shots=1000).result()\n",
    "counts=result.get_counts()\n",
    "plot_histogram(counts)\n",
    "#Encrypted data"
   ]
  },
  {
   "cell_type": "code",
   "execution_count": null,
   "id": "3b7f5174",
   "metadata": {},
   "outputs": [],
   "source": []
  }
 ],
 "metadata": {
  "kernelspec": {
   "display_name": "Python 3 (ipykernel)",
   "language": "python",
   "name": "python3"
  },
  "language_info": {
   "codemirror_mode": {
    "name": "ipython",
    "version": 3
   },
   "file_extension": ".py",
   "mimetype": "text/x-python",
   "name": "python",
   "nbconvert_exporter": "python",
   "pygments_lexer": "ipython3",
   "version": "3.9.7"
  }
 },
 "nbformat": 4,
 "nbformat_minor": 5
}
