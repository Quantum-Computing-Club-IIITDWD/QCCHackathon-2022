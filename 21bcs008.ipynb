{
  "nbformat": 4,
  "nbformat_minor": 0,
  "metadata": {
    "colab": {
      "name": "Untitled3.ipynb",
      "provenance": [],
      "authorship_tag": "ABX9TyPLZzvgQpzEtQg6/sC+Im4s",
      "include_colab_link": true
    },
    "kernelspec": {
      "name": "python3",
      "display_name": "Python 3"
    },
    "language_info": {
      "name": "python"
    }
  },
  "cells": [
    {
      "cell_type": "markdown",
      "metadata": {
        "id": "view-in-github",
        "colab_type": "text"
      },
      "source": [
        "<a href=\"https://colab.research.google.com/github/sriram1909/QCCHackathon-2022-copy/blob/main/21bcs008.ipynb\" target=\"_parent\"><img src=\"https://colab.research.google.com/assets/colab-badge.svg\" alt=\"Open In Colab\"/></a>"
      ]
    },
    {
      "cell_type": "code",
      "source": [
        "from qiskit import *"
      ],
      "metadata": {
        "id": "m1pNwpNO3R_8"
      },
      "execution_count": 13,
      "outputs": []
    },
    {
      "cell_type": "code",
      "source": [
        "qc = QuantumCircuit(3,3)"
      ],
      "metadata": {
        "id": "bOVeHP_Y3Uga"
      },
      "execution_count": 14,
      "outputs": []
    },
    {
      "cell_type": "code",
      "source": [
        "qc.draw()"
      ],
      "metadata": {
        "colab": {
          "base_uri": "https://localhost:8080/",
          "height": 156
        },
        "id": "xZObMl0q3Yts",
        "outputId": "91d3a0d9-9997-41d3-d236-21b1f6283904"
      },
      "execution_count": 15,
      "outputs": [
        {
          "output_type": "execute_result",
          "data": {
            "text/plain": [
              "     \n",
              "q_0: \n",
              "     \n",
              "q_1: \n",
              "     \n",
              "q_2: \n",
              "     \n",
              "c: 3/\n",
              "     "
            ],
            "text/html": [
              "<pre style=\"word-wrap: normal;white-space: pre;background: #fff0;line-height: 1.1;font-family: &quot;Courier New&quot;,Courier,monospace\">     \n",
              "q_0: \n",
              "     \n",
              "q_1: \n",
              "     \n",
              "q_2: \n",
              "     \n",
              "c: 3/\n",
              "     </pre>"
            ]
          },
          "metadata": {},
          "execution_count": 15
        }
      ]
    },
    {
      "cell_type": "code",
      "source": [
        "qc.x(0)\n",
        "qc.h(0)\n",
        "qc.barrier()\n",
        "qc.draw()"
      ],
      "metadata": {
        "colab": {
          "base_uri": "https://localhost:8080/",
          "height": 156
        },
        "id": "tWzdihnF3cZx",
        "outputId": "8734c167-3e70-4e06-a28f-892b4206a3fc"
      },
      "execution_count": 16,
      "outputs": [
        {
          "output_type": "execute_result",
          "data": {
            "text/plain": [
              "     ┌───┐┌───┐ ░ \n",
              "q_0: ┤ X ├┤ H ├─░─\n",
              "     └───┘└───┘ ░ \n",
              "q_1: ───────────░─\n",
              "                ░ \n",
              "q_2: ───────────░─\n",
              "                ░ \n",
              "c: 3/═════════════\n",
              "                  "
            ],
            "text/html": [
              "<pre style=\"word-wrap: normal;white-space: pre;background: #fff0;line-height: 1.1;font-family: &quot;Courier New&quot;,Courier,monospace\">     ┌───┐┌───┐ ░ \n",
              "q_0: ┤ X ├┤ H ├─░─\n",
              "     └───┘└───┘ ░ \n",
              "q_1: ───────────░─\n",
              "                ░ \n",
              "q_2: ───────────░─\n",
              "                ░ \n",
              "c: 3/═════════════\n",
              "                  </pre>"
            ]
          },
          "metadata": {},
          "execution_count": 16
        }
      ]
    },
    {
      "cell_type": "code",
      "source": [
        "qc.h(1)\n",
        "qc.cx(1,2)\n",
        "qc.cx(0,1)\n",
        "qc.h(0)\n",
        "qc.barrier()\n",
        "qc.draw()"
      ],
      "metadata": {
        "colab": {
          "base_uri": "https://localhost:8080/",
          "height": 156
        },
        "id": "uj6diw5_3ldV",
        "outputId": "2fdce058-969f-48f4-bd3c-91fe39030bcb"
      },
      "execution_count": 17,
      "outputs": [
        {
          "output_type": "execute_result",
          "data": {
            "text/plain": [
              "     ┌───┐┌───┐ ░                ┌───┐ ░ \n",
              "q_0: ┤ X ├┤ H ├─░─────────────■──┤ H ├─░─\n",
              "     └───┘└───┘ ░ ┌───┐     ┌─┴─┐└───┘ ░ \n",
              "q_1: ───────────░─┤ H ├──■──┤ X ├──────░─\n",
              "                ░ └───┘┌─┴─┐└───┘      ░ \n",
              "q_2: ───────────░──────┤ X ├───────────░─\n",
              "                ░      └───┘           ░ \n",
              "c: 3/════════════════════════════════════\n",
              "                                         "
            ],
            "text/html": [
              "<pre style=\"word-wrap: normal;white-space: pre;background: #fff0;line-height: 1.1;font-family: &quot;Courier New&quot;,Courier,monospace\">     ┌───┐┌───┐ ░                ┌───┐ ░ \n",
              "q_0: ┤ X ├┤ H ├─░─────────────■──┤ H ├─░─\n",
              "     └───┘└───┘ ░ ┌───┐     ┌─┴─┐└───┘ ░ \n",
              "q_1: ───────────░─┤ H ├──■──┤ X ├──────░─\n",
              "                ░ └───┘┌─┴─┐└───┘      ░ \n",
              "q_2: ───────────░──────┤ X ├───────────░─\n",
              "                ░      └───┘           ░ \n",
              "c: 3/════════════════════════════════════\n",
              "                                         </pre>"
            ]
          },
          "metadata": {},
          "execution_count": 17
        }
      ]
    },
    {
      "cell_type": "code",
      "source": [
        "qc.measure([0,1],[0,1])\n",
        "qc.draw()"
      ],
      "metadata": {
        "colab": {
          "base_uri": "https://localhost:8080/",
          "height": 156
        },
        "id": "zta7FIhR30Kw",
        "outputId": "0a0e2189-47fe-4ce3-a769-9630a4f190a8"
      },
      "execution_count": 18,
      "outputs": [
        {
          "output_type": "execute_result",
          "data": {
            "text/plain": [
              "     ┌───┐┌───┐ ░                ┌───┐ ░ ┌─┐   \n",
              "q_0: ┤ X ├┤ H ├─░─────────────■──┤ H ├─░─┤M├───\n",
              "     └───┘└───┘ ░ ┌───┐     ┌─┴─┐└───┘ ░ └╥┘┌─┐\n",
              "q_1: ───────────░─┤ H ├──■──┤ X ├──────░──╫─┤M├\n",
              "                ░ └───┘┌─┴─┐└───┘      ░  ║ └╥┘\n",
              "q_2: ───────────░──────┤ X ├───────────░──╫──╫─\n",
              "                ░      └───┘           ░  ║  ║ \n",
              "c: 3/═════════════════════════════════════╩══╩═\n",
              "                                          0  1 "
            ],
            "text/html": [
              "<pre style=\"word-wrap: normal;white-space: pre;background: #fff0;line-height: 1.1;font-family: &quot;Courier New&quot;,Courier,monospace\">     ┌───┐┌───┐ ░                ┌───┐ ░ ┌─┐   \n",
              "q_0: ┤ X ├┤ H ├─░─────────────■──┤ H ├─░─┤M├───\n",
              "     └───┘└───┘ ░ ┌───┐     ┌─┴─┐└───┘ ░ └╥┘┌─┐\n",
              "q_1: ───────────░─┤ H ├──■──┤ X ├──────░──╫─┤M├\n",
              "                ░ └───┘┌─┴─┐└───┘      ░  ║ └╥┘\n",
              "q_2: ───────────░──────┤ X ├───────────░──╫──╫─\n",
              "                ░      └───┘           ░  ║  ║ \n",
              "c: 3/═════════════════════════════════════╩══╩═\n",
              "                                          0  1 </pre>"
            ]
          },
          "metadata": {},
          "execution_count": 18
        }
      ]
    },
    {
      "cell_type": "code",
      "source": [
        "qc.barrier()"
      ],
      "metadata": {
        "colab": {
          "base_uri": "https://localhost:8080/"
        },
        "id": "yMjpXbn_4ctk",
        "outputId": "fff1c0ef-5cce-48db-a4a1-fd94fb0af1e9"
      },
      "execution_count": 19,
      "outputs": [
        {
          "output_type": "execute_result",
          "data": {
            "text/plain": [
              "<qiskit.circuit.instructionset.InstructionSet at 0x7fe414d2ae60>"
            ]
          },
          "metadata": {},
          "execution_count": 19
        }
      ]
    },
    {
      "cell_type": "code",
      "source": [
        "qc.cx(1,2)\n",
        "qc.cz(0,2)\n",
        "qc.draw()"
      ],
      "metadata": {
        "colab": {
          "base_uri": "https://localhost:8080/",
          "height": 156
        },
        "id": "NVMOFfgY4gYt",
        "outputId": "ada2321f-419b-4ecc-ffaa-3a408607d1a2"
      },
      "execution_count": 20,
      "outputs": [
        {
          "output_type": "execute_result",
          "data": {
            "text/plain": [
              "     ┌───┐┌───┐ ░                ┌───┐ ░ ┌─┐    ░         \n",
              "q_0: ┤ X ├┤ H ├─░─────────────■──┤ H ├─░─┤M├────░───────■─\n",
              "     └───┘└───┘ ░ ┌───┐     ┌─┴─┐└───┘ ░ └╥┘┌─┐ ░       │ \n",
              "q_1: ───────────░─┤ H ├──■──┤ X ├──────░──╫─┤M├─░───■───┼─\n",
              "                ░ └───┘┌─┴─┐└───┘      ░  ║ └╥┘ ░ ┌─┴─┐ │ \n",
              "q_2: ───────────░──────┤ X ├───────────░──╫──╫──░─┤ X ├─■─\n",
              "                ░      └───┘           ░  ║  ║  ░ └───┘   \n",
              "c: 3/═════════════════════════════════════╩══╩════════════\n",
              "                                          0  1            "
            ],
            "text/html": [
              "<pre style=\"word-wrap: normal;white-space: pre;background: #fff0;line-height: 1.1;font-family: &quot;Courier New&quot;,Courier,monospace\">     ┌───┐┌───┐ ░                ┌───┐ ░ ┌─┐    ░         \n",
              "q_0: ┤ X ├┤ H ├─░─────────────■──┤ H ├─░─┤M├────░───────■─\n",
              "     └───┘└───┘ ░ ┌───┐     ┌─┴─┐└───┘ ░ └╥┘┌─┐ ░       │ \n",
              "q_1: ───────────░─┤ H ├──■──┤ X ├──────░──╫─┤M├─░───■───┼─\n",
              "                ░ └───┘┌─┴─┐└───┘      ░  ║ └╥┘ ░ ┌─┴─┐ │ \n",
              "q_2: ───────────░──────┤ X ├───────────░──╫──╫──░─┤ X ├─■─\n",
              "                ░      └───┘           ░  ║  ║  ░ └───┘   \n",
              "c: 3/═════════════════════════════════════╩══╩════════════\n",
              "                                          0  1            </pre>"
            ]
          },
          "metadata": {},
          "execution_count": 20
        }
      ]
    },
    {
      "cell_type": "code",
      "source": [
        "qc.barrier()\n",
        "qc.h(0)\n",
        "qc.x(0)"
      ],
      "metadata": {
        "colab": {
          "base_uri": "https://localhost:8080/"
        },
        "id": "bJ4Yz2FM4wm_",
        "outputId": "c5f59634-26ad-4b9f-b125-e30deded5f09"
      },
      "execution_count": 21,
      "outputs": [
        {
          "output_type": "execute_result",
          "data": {
            "text/plain": [
              "<qiskit.circuit.instructionset.InstructionSet at 0x7fe418b0e7d0>"
            ]
          },
          "metadata": {},
          "execution_count": 21
        }
      ]
    },
    {
      "cell_type": "code",
      "source": [
        "qc.draw()"
      ],
      "metadata": {
        "colab": {
          "base_uri": "https://localhost:8080/",
          "height": 156
        },
        "id": "xFstZhir43gq",
        "outputId": "ceb3922e-91ff-48e2-c53f-3bb4bb3fcd5c"
      },
      "execution_count": 22,
      "outputs": [
        {
          "output_type": "execute_result",
          "data": {
            "text/plain": [
              "     ┌───┐┌───┐ ░                ┌───┐ ░ ┌─┐    ░          ░ ┌───┐┌───┐\n",
              "q_0: ┤ X ├┤ H ├─░─────────────■──┤ H ├─░─┤M├────░───────■──░─┤ H ├┤ X ├\n",
              "     └───┘└───┘ ░ ┌───┐     ┌─┴─┐└───┘ ░ └╥┘┌─┐ ░       │  ░ └───┘└───┘\n",
              "q_1: ───────────░─┤ H ├──■──┤ X ├──────░──╫─┤M├─░───■───┼──░───────────\n",
              "                ░ └───┘┌─┴─┐└───┘      ░  ║ └╥┘ ░ ┌─┴─┐ │  ░           \n",
              "q_2: ───────────░──────┤ X ├───────────░──╫──╫──░─┤ X ├─■──░───────────\n",
              "                ░      └───┘           ░  ║  ║  ░ └───┘    ░           \n",
              "c: 3/═════════════════════════════════════╩══╩═════════════════════════\n",
              "                                          0  1                         "
            ],
            "text/html": [
              "<pre style=\"word-wrap: normal;white-space: pre;background: #fff0;line-height: 1.1;font-family: &quot;Courier New&quot;,Courier,monospace\">     ┌───┐┌───┐ ░                ┌───┐ ░ ┌─┐    ░          ░ ┌───┐┌───┐\n",
              "q_0: ┤ X ├┤ H ├─░─────────────■──┤ H ├─░─┤M├────░───────■──░─┤ H ├┤ X ├\n",
              "     └───┘└───┘ ░ ┌───┐     ┌─┴─┐└───┘ ░ └╥┘┌─┐ ░       │  ░ └───┘└───┘\n",
              "q_1: ───────────░─┤ H ├──■──┤ X ├──────░──╫─┤M├─░───■───┼──░───────────\n",
              "                ░ └───┘┌─┴─┐└───┘      ░  ║ └╥┘ ░ ┌─┴─┐ │  ░           \n",
              "q_2: ───────────░──────┤ X ├───────────░──╫──╫──░─┤ X ├─■──░───────────\n",
              "                ░      └───┘           ░  ║  ║  ░ └───┘    ░           \n",
              "c: 3/═════════════════════════════════════╩══╩═════════════════════════\n",
              "                                          0  1                         </pre>"
            ]
          },
          "metadata": {},
          "execution_count": 22
        }
      ]
    },
    {
      "cell_type": "code",
      "source": [
        ""
      ],
      "metadata": {
        "id": "NYcJtRTI45Vn"
      },
      "execution_count": null,
      "outputs": []
    }
  ]
}